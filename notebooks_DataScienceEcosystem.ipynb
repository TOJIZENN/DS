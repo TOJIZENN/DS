{
  "metadata": {
    "language_info": {
      "codemirror_mode": {
        "name": "python",
        "version": 3
      },
      "file_extension": ".py",
      "mimetype": "text/x-python",
      "name": "python",
      "nbconvert_exporter": "python",
      "pygments_lexer": "ipython3",
      "version": "3.8"
    },
    "kernelspec": {
      "name": "python",
      "display_name": "Python (Pyodide)",
      "language": "python"
    }
  },
  "nbformat_minor": 4,
  "nbformat": 4,
  "cells": [
    {
      "cell_type": "markdown",
      "source": "# Data Science Tools and Ecosystem",
      "metadata": {}
    },
    {
      "cell_type": "markdown",
      "source": "## Introduction\n\nIn this notebook, Data Science Tools and Ecosystem are summarized. We will explore the essential tools and technologies that form the foundation of the data science field and delve into the rich ecosystem that empowers data scientists to analyze, visualize, and derive insights from data.\n",
      "metadata": {}
    },
    {
      "cell_type": "markdown",
      "source": "## Data Science Languages\n\nSome of the popular languages that Data Scientists use include:\n\n1. python\n\n2. R\n\n3. SQL\n",
      "metadata": {
        "tags": []
      }
    },
    {
      "cell_type": "markdown",
      "source": "## Data Science Libraries\n\nSome of the commonly used libraries by Data Scientists include:\n\n1. NumPy \n2. pandas \n3. scikit-learn\n4. Matplotlib\n5. Seaborn\n6. TensorFlow\n7. PyTorch\n8. SciPy\n",
      "metadata": {}
    },
    {
      "cell_type": "markdown",
      "source": "## Data Science Tools\n\n| Data Science Tools        |\n|---------------------------|\n| Jupyter Notebook          |\n| RStudio                   |\n| Visual Studio Code (VSCode)|\n",
      "metadata": {}
    },
    {
      "cell_type": "markdown",
      "source": "### Below are a few examples of evaluating arithmetic expressions in Python",
      "metadata": {
        "tags": []
      }
    },
    {
      "cell_type": "code",
      "source": "# This will convert 200 minutes to hours by dividing by 60.\nminutes = 200\nhours = minutes / 60\nhours\n",
      "metadata": {
        "trusted": true
      },
      "execution_count": 2,
      "outputs": [
        {
          "execution_count": 2,
          "output_type": "execute_result",
          "data": {
            "text/plain": "3.3333333333333335"
          },
          "metadata": {}
        }
      ]
    },
    {
      "cell_type": "markdown",
      "source": "**Objectives:**\n\n- List popular languages for Data Science.\n- Introduce commonly used Data Science libraries.\n- Provide examples of evaluating arithmetic expressions in Python.\n- Convert minutes to hours using Python.\n- Explore Data Science tools and ecosystems.\n",
      "metadata": {}
    },
    {
      "cell_type": "markdown",
      "source": "## Author\nAditya singh\n",
      "metadata": {}
    },
    {
      "cell_type": "code",
      "source": "",
      "metadata": {},
      "execution_count": null,
      "outputs": []
    }
  ]
}